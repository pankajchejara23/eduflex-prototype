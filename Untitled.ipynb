{
 "cells": [
  {
   "cell_type": "markdown",
   "id": "17274aa3",
   "metadata": {},
   "source": [
    "# Installation"
   ]
  },
  {
   "cell_type": "markdown",
   "id": "34ce972e",
   "metadata": {},
   "source": [
    "1. Clone the seeds repo from github\n",
    "```\n",
    "    git clone https://github.com/centre-for-educational-technology/Seeds_bootstrap\n",
    "```\n"
   ]
  },
  {
   "cell_type": "markdown",
   "id": "660f3faa",
   "metadata": {},
   "source": [
    "2. Install pip\n",
    "```\n",
    "    sudo apt install python3-pip\n",
    "```"
   ]
  },
  {
   "cell_type": "markdown",
   "id": "42e7d2dd",
   "metadata": {},
   "source": [
    "3. Install required packages\n",
    "```\n",
    "    pip install -r requirements.txt\n",
    "```\n"
   ]
  },
  {
   "cell_type": "markdown",
   "id": "d1c6f58d",
   "metadata": {},
   "source": [
    "4. Install apache server\n",
    "```\n",
    "    sudo apt-get install apache2 libapache2-mod-wsgi-py3\n",
    "```"
   ]
  },
  {
   "cell_type": "code",
   "execution_count": null,
   "id": "a2046809",
   "metadata": {},
   "outputs": [],
   "source": [
    "5. Seeds related steps"
   ]
  },
  {
   "cell_type": "markdown",
   "id": "42a30291",
   "metadata": {},
   "source": [
    "6. Create configuration file\n",
    "```\n",
    "    sudo nano /etc/apache2/sites-available/testdjango.conf\n",
    "```"
   ]
  },
  {
   "cell_type": "code",
   "execution_count": null,
   "id": "962b980e",
   "metadata": {},
   "outputs": [],
   "source": [
    "7. Enable wsgi and site\n",
    "```\n",
    "sudo a2enmod wsgi\n",
    "```"
   ]
  }
 ],
 "metadata": {
  "kernelspec": {
   "display_name": "Python 3 (ipykernel)",
   "language": "python",
   "name": "python3"
  },
  "language_info": {
   "codemirror_mode": {
    "name": "ipython",
    "version": 3
   },
   "file_extension": ".py",
   "mimetype": "text/x-python",
   "name": "python",
   "nbconvert_exporter": "python",
   "pygments_lexer": "ipython3",
   "version": "3.9.16"
  }
 },
 "nbformat": 4,
 "nbformat_minor": 5
}
